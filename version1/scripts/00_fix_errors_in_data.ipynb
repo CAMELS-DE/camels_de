{
 "cells": [
  {
   "cell_type": "markdown",
   "metadata": {},
   "source": [
    "# Fix errors in the data\n",
    "\n",
    "There are some errors in the qw data that we fix here first.\n",
    "\n",
    "- unexplainbly high numbers -> we are very conservative here, as we do not falsely want to remove any valid high-q data"
   ]
  },
  {
   "cell_type": "code",
   "execution_count": 1,
   "metadata": {},
   "outputs": [
    {
     "name": "stderr",
     "output_type": "stream",
     "text": [
      "/home/alexd/miniconda3/lib/python3.11/site-packages/geopandas/_compat.py:124: UserWarning: The Shapely GEOS version (3.11.3-CAPI-1.17.3) is incompatible with the GEOS version PyGEOS was compiled with (3.10.4-CAPI-1.16.2). Conversions between both will be slow.\n",
      "  warnings.warn(\n"
     ]
    }
   ],
   "source": [
    "import os\n",
    "\n",
    "from camelsp import Station\n",
    "from camelsp.util import OUTPUT_PATH"
   ]
  },
  {
   "cell_type": "markdown",
   "metadata": {},
   "source": [
    "Station `DE210850` has a q value of 9900 which should be NaN."
   ]
  },
  {
   "cell_type": "code",
   "execution_count": 2,
   "metadata": {},
   "outputs": [
    {
     "name": "stdout",
     "output_type": "stream",
     "text": [
      "             q  q_flag   w  w_flag\n",
      "date                              \n",
      "2006-06-19 NaN    True NaN    <NA>\n",
      "2006-06-20 NaN    True NaN    <NA>\n",
      "2006-06-21 NaN    True NaN    <NA>\n",
      "2006-06-22 NaN    True NaN    <NA>\n",
      "2006-06-23 NaN    True NaN    <NA>\n",
      "             q  q_flag   w  w_flag\n",
      "date                              \n",
      "2006-06-19 NaN    True NaN    <NA>\n",
      "2006-06-20 NaN    True NaN    <NA>\n",
      "2006-06-21 NaN    True NaN    <NA>\n",
      "2006-06-22 NaN    True NaN    <NA>\n",
      "2006-06-23 NaN    True NaN    <NA>\n"
     ]
    }
   ],
   "source": [
    "df = Station(\"DE210850\").get_data()\n",
    "\n",
    "print(df.loc[\"2006-06-19\":\"2006-06-23\"])\n",
    "\n",
    "# replace q value 9900 with nan (if it is not already)\n",
    "if 9900 in df[\"q\"].values:\n",
    "    df.loc[df[\"q\"] == 9900, \"q\"] = None\n",
    "\n",
    "# date from 2006-06-21 to 2006-06-22\n",
    "print(df.loc[\"2006-06-19\":\"2006-06-23\"])\n",
    "\n",
    "# save to csv\n",
    "df.to_csv(os.path.join(OUTPUT_PATH, \"DE2/DE210850/DE210850_data.csv\"))"
   ]
  },
  {
   "cell_type": "markdown",
   "metadata": {},
   "source": [
    "Station `DE215660` has two extremely high and unexplainable q values of 1330000.0 and 49100.0 (together with low w values). We replace these with NaN."
   ]
  },
  {
   "cell_type": "code",
   "execution_count": 4,
   "metadata": {},
   "outputs": [
    {
     "name": "stdout",
     "output_type": "stream",
     "text": [
      "                    q  q_flag      w  w_flag\n",
      "date                                        \n",
      "2013-04-09  1330000.0   False  148.0   False\n",
      "2014-04-29    49100.0   False  132.0   False\n",
      "2021-07-09       30.4   False  323.0   False\n",
      "2021-07-10       18.0   False  321.0   False\n",
      "2011-01-08       16.6   False  329.0    True\n",
      "               q  q_flag      w  w_flag\n",
      "date                                   \n",
      "2021-07-09  30.4   False  323.0   False\n",
      "2021-07-10  18.0   False  321.0   False\n",
      "2011-01-08  16.6   False  329.0    True\n",
      "2010-12-09  15.2   False  319.0    True\n",
      "1998-10-29  15.1    True  337.0    True\n"
     ]
    }
   ],
   "source": [
    "df = Station(\"DE214660\").get_data()\n",
    "\n",
    "# sort values by q\n",
    "print(df.sort_values(\"q\", ascending=False).head())\n",
    "\n",
    "# replace 1330000.0 and 49100.0 with nan (if they are not already)\n",
    "if 1330000.0 in df[\"q\"].values:\n",
    "    df.loc[df[\"q\"] == 1330000.0, \"q\"] = None\n",
    "if 49100.0 in df[\"q\"].values:\n",
    "    df.loc[df[\"q\"] == 49100.0, \"q\"] = None\n",
    "\n",
    "# sort values by q\n",
    "print(df.sort_values(\"q\", ascending=False).head())\n",
    "\n",
    "# save to csv\n",
    "df.to_csv(os.path.join(OUTPUT_PATH, \"DE2/DE214660/DE214660_data.csv\"))"
   ]
  },
  {
   "cell_type": "markdown",
   "metadata": {},
   "source": [
    "Station `DE911330` has one extremely high and unexplainable w value of 10091.0 (together with low q values). We replace the value with NaN."
   ]
  },
  {
   "cell_type": "code",
   "execution_count": 6,
   "metadata": {},
   "outputs": [
    {
     "name": "stdout",
     "output_type": "stream",
     "text": [
      "               q  q_flag        w  w_flag\n",
      "date                                     \n",
      "1976-01-09  1.24    <NA>     86.0    <NA>\n",
      "1976-01-10  1.25    <NA>     86.0    <NA>\n",
      "1976-01-11  2.07    <NA>  10091.0    <NA>\n",
      "1976-01-12  1.54    <NA>     94.0    <NA>\n",
      "1976-01-13  1.73    <NA>     95.0    <NA>\n",
      "               q  q_flag     w  w_flag\n",
      "date                                  \n",
      "1976-01-09  1.24    <NA>  86.0    <NA>\n",
      "1976-01-10  1.25    <NA>  86.0    <NA>\n",
      "1976-01-11  2.07    <NA>   NaN    <NA>\n",
      "1976-01-12  1.54    <NA>  94.0    <NA>\n",
      "1976-01-13  1.73    <NA>  95.0    <NA>\n"
     ]
    }
   ],
   "source": [
    "df = Station(\"DE911330\").get_data()\n",
    "\n",
    "# date from 1976-01-09 to 1976-01-13\n",
    "print(df.loc[\"1976-01-09\":\"1976-01-13\"].head())\n",
    "\n",
    "# replace 10091.0 with nan (if it is not already)\n",
    "if 10091.0 in df[\"w\"].values:\n",
    "    df.loc[df[\"w\"] == 10091.0, \"w\"] = None\n",
    "\n",
    "# date from 1976-01-09 to 1976-01-13\n",
    "print(df.loc[\"1976-01-09\":\"1976-01-13\"].head())\n",
    "\n",
    "# save to csv\n",
    "df.to_csv(os.path.join(OUTPUT_PATH, \"DE9/DE911330/DE911330_data.csv\"))"
   ]
  },
  {
   "cell_type": "markdown",
   "metadata": {},
   "source": [
    "Station `DE911350` has three extremely high and unexplainable w values (together with low q values). We replace these value with NaN."
   ]
  },
  {
   "cell_type": "code",
   "execution_count": 7,
   "metadata": {},
   "outputs": [
    {
     "name": "stdout",
     "output_type": "stream",
     "text": [
      "                q  q_flag       w  w_flag\n",
      "date                                     \n",
      "1981-02-10  10.50    <NA>    55.0    <NA>\n",
      "1981-02-11   8.12    <NA>  4735.0    <NA>\n",
      "1981-02-12   6.13    <NA>    41.0    <NA>\n",
      "               q  q_flag       w  w_flag\n",
      "date                                    \n",
      "1981-05-04  3.30    <NA>    29.0    <NA>\n",
      "1981-05-05  2.90    <NA>  2635.0    <NA>\n",
      "1981-05-06  2.53    <NA>    25.0    <NA>\n",
      "               q  q_flag       w  w_flag\n",
      "date                                    \n",
      "1981-06-20  1.54    <NA>    19.0    <NA>\n",
      "1981-06-21  1.54    <NA>  1835.0    <NA>\n",
      "1981-06-22  2.53    <NA>    24.0    <NA>\n",
      "                q  q_flag     w  w_flag\n",
      "date                                   \n",
      "1981-02-10  10.50    <NA>  55.0    <NA>\n",
      "1981-02-11   8.12    <NA>   NaN    <NA>\n",
      "1981-02-12   6.13    <NA>  41.0    <NA>\n",
      "               q  q_flag     w  w_flag\n",
      "date                                  \n",
      "1981-05-04  3.30    <NA>  29.0    <NA>\n",
      "1981-05-05  2.90    <NA>   NaN    <NA>\n",
      "1981-05-06  2.53    <NA>  25.0    <NA>\n",
      "               q  q_flag     w  w_flag\n",
      "date                                  \n",
      "1981-06-20  1.54    <NA>  19.0    <NA>\n",
      "1981-06-21  1.54    <NA>   NaN    <NA>\n",
      "1981-06-22  2.53    <NA>  24.0    <NA>\n"
     ]
    }
   ],
   "source": [
    "df = Station(\"DE911350\").get_data()\n",
    "\n",
    "# one day before and after the errorneous values\n",
    "print(df.loc[\"1981-02-10\":\"1981-02-12\"])\n",
    "print(df.loc[\"1981-05-04\":\"1981-05-06\"])\n",
    "print(df.loc[\"1981-06-20\":\"1981-06-22\"])\n",
    "\n",
    "# replace values with nan (if they are not already)\n",
    "if 4735.0 in df[\"w\"].values:\n",
    "    df.loc[df[\"w\"] == 4735.0, \"w\"] = None\n",
    "if 2635.0 in df[\"w\"].values:\n",
    "    df.loc[df[\"w\"] == 2635.0, \"w\"] = None\n",
    "if 1835.0 in df[\"w\"].values:\n",
    "    df.loc[df[\"w\"] == 1835.0, \"w\"] = None\n",
    "\n",
    "# one day before and after replacement\n",
    "print(df.loc[\"1981-02-10\":\"1981-02-12\"])\n",
    "print(df.loc[\"1981-05-04\":\"1981-05-06\"])\n",
    "print(df.loc[\"1981-06-20\":\"1981-06-22\"])\n",
    "\n",
    "# save to csv\n",
    "df.to_csv(os.path.join(OUTPUT_PATH, \"DE9/DE911330/DE911330_data.csv\"))"
   ]
  },
  {
   "cell_type": "markdown",
   "metadata": {},
   "source": [
    "Station `DE911240`: water_level values are actually just 1000 * discharge values. This is obviously an error (probably by the data provider), we replace all water level values with NaN."
   ]
  },
  {
   "cell_type": "code",
   "execution_count": 8,
   "metadata": {},
   "outputs": [
    {
     "name": "stdout",
     "output_type": "stream",
     "text": [
      "w equals q * 1000\n"
     ]
    }
   ],
   "source": [
    "df = Station(\"DE911240\").get_data()\n",
    "\n",
    "# check if w equals q * 1000\n",
    "if (df[\"w\"] == (df[\"q\"] * 1000).round()).all():\n",
    "    print(\"w equals q * 1000\")\n",
    "\n",
    "# replace entire w column with NaN\n",
    "df[\"w\"] = None\n",
    "\n",
    "# save to csv\n",
    "df.to_csv(os.path.join(OUTPUT_PATH, \"DE9/DE911240/DE911240_data.csv\"))"
   ]
  }
 ],
 "metadata": {
  "kernelspec": {
   "display_name": "base",
   "language": "python",
   "name": "python3"
  },
  "language_info": {
   "codemirror_mode": {
    "name": "ipython",
    "version": 3
   },
   "file_extension": ".py",
   "mimetype": "text/x-python",
   "name": "python",
   "nbconvert_exporter": "python",
   "pygments_lexer": "ipython3",
   "version": "3.11.7"
  }
 },
 "nbformat": 4,
 "nbformat_minor": 2
}
