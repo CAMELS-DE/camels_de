{
 "cells": [
  {
   "cell_type": "markdown",
   "metadata": {},
   "source": [
    "# Soil attributes\n",
    "\n",
    "Notebook to create the file `CAMELS_DE_soil_attributes.csv`.  \n",
    "\n",
    "- columns in CAMELS-GB:\n",
    "- gauge_id\n",
    "- sand_perc\n",
    "- sand_perc_missing\n",
    "- silt_perc\n",
    "- silt_perc_missing\n",
    "- clay_perc\n",
    "- clay_perc_missing\n",
    "- organic_perc\n",
    "- organic_perc_missing\n",
    "- bulkdens\n",
    "- bulkdens_missing\n",
    "- bulkdens_5\n",
    "- bulkdens_50\n",
    "- bulkdens_95\n",
    "- tawc\n",
    "- tawc_missing\n",
    "- tawc_5\n",
    "- tawc_50\n",
    "- tawc_95\n",
    "- porosity_cosby\n",
    "- porosity_cosby_missing\n",
    "- porosity_cosby_5\n",
    "- porosity_cosby_50\n",
    "- porosity_cosby_95\n",
    "- porosity_hypres\n",
    "- porosity_hypres_missing\n",
    "- porosity_hypres_5\n",
    "- porosity_hypres_50\n",
    "- porosity_hypres_95\n",
    "- conductivity_cosby\n",
    "- conductivity_cosby_missing\n",
    "- conductivity_cosby_5\n",
    "- conductivity_cosby_50\n",
    "- conductivity_cosby_95\n",
    "- conductivity_hypres\n",
    "- conductivity_hypres_missing\n",
    "- conductivity_hypres_5\n",
    "- conductivity_hypres_50\n",
    "- conductivity_hypres_95\n",
    "- root_depth\n",
    "- root_depth_missing\n",
    "- root_depth_5\n",
    "- root_depth_50\n",
    "- root_depth_95\n",
    "- soil_depth_pelletier\n",
    "- soil_depth_pelletier_missing\n",
    "- soil_depth_pelletier_5\n",
    "- soil_depth_pelletier_50\n",
    "- soil_depth_pelletier_95"
   ]
  },
  {
   "cell_type": "code",
   "execution_count": 1,
   "metadata": {},
   "outputs": [
    {
     "name": "stderr",
     "output_type": "stream",
     "text": [
      "/home/alexd/miniconda3/lib/python3.11/site-packages/geopandas/_compat.py:124: UserWarning: The Shapely GEOS version (3.11.3-CAPI-1.17.3) is incompatible with the GEOS version PyGEOS was compiled with (3.10.4-CAPI-1.16.2). Conversions between both will be slow.\n",
      "  warnings.warn(\n"
     ]
    }
   ],
   "source": [
    "import os\n",
    "from glob import glob\n",
    "import pandas as pd\n",
    "\n",
    "from camelsp.util import OUTPUT_PATH"
   ]
  },
  {
   "cell_type": "code",
   "execution_count": 2,
   "metadata": {},
   "outputs": [
    {
     "name": "stdout",
     "output_type": "stream",
     "text": [
      "Total number of stations in CAMELS-DE v1: 1460\n"
     ]
    }
   ],
   "source": [
    "# get camels_ids from hydromet timeseries\n",
    "camels_ids = [camels_id.split(\"_\")[-1].split(\".csv\")[0] for camels_id in glob(\"../output_data/camels_de/timeseries/*.csv\")]\n",
    "\n",
    "# sort camels_ids\n",
    "camels_ids = sorted(camels_ids)\n",
    "\n",
    "print(f\"Total number of stations in CAMELS-DE v1: {len(camels_ids)}\")"
   ]
  },
  {
   "cell_type": "markdown",
   "metadata": {},
   "source": [
    "## Read and save soil data\n",
    "\n",
    "We extracted the hydrogeology attributes from the ISRIC soil grid dataset, read, merge and process here."
   ]
  },
  {
   "cell_type": "code",
   "execution_count": 28,
   "metadata": {},
   "outputs": [],
   "source": [
    "# get all soil grids variables\n",
    "files = glob(os.path.join(OUTPUT_PATH, \"raw_catchment_attributes/soils/isric/*\"))\n",
    "\n",
    "soil_data = pd.DataFrame(columns=[\"camels_id\"], data=camels_ids)\n",
    "\n",
    "# read files and merge, join on camels_id\n",
    "for file in files:\n",
    "    # read file\n",
    "    data = pd.read_csv(file)\n",
    "\n",
    "    # merge\n",
    "    soil_data = soil_data.merge(data, how=\"left\", on=\"camels_id\")\n",
    "\n",
    "\n",
    "# filter for camels_ids and sort by camels_id\n",
    "soil_data = soil_data[soil_data[\"camels_id\"].isin(camels_ids)].sort_values(\"camels_id\").reset_index(drop=True)\n",
    "\n",
    "# save to csv\n",
    "soil_data.to_csv(\"../output_data/camels_de/CAMELS_DE_soil_attributes.csv\", index=False)"
   ]
  }
 ],
 "metadata": {
  "kernelspec": {
   "display_name": "base",
   "language": "python",
   "name": "python3"
  },
  "language_info": {
   "codemirror_mode": {
    "name": "ipython",
    "version": 3
   },
   "file_extension": ".py",
   "mimetype": "text/x-python",
   "name": "python",
   "nbconvert_exporter": "python",
   "pygments_lexer": "ipython3",
   "version": "3.11.7"
  }
 },
 "nbformat": 4,
 "nbformat_minor": 2
}
