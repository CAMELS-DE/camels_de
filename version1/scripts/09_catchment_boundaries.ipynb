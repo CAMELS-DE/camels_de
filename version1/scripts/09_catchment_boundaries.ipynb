{
 "cells": [
  {
   "cell_type": "markdown",
   "metadata": {},
   "source": [
    "# Catchment Boundaries\n",
    "\n",
    "Notebook to create the files `CAMELS_DE_catchment_boundaries.geopackage` and `CAMELS_DE_catchment_boundaries.shp`.  \n",
    "As well as `CAMELS_DE_gauging_stations.geopackage` and `CAMELS_DE_gauging_stations.shp`.  \n",
    "\n",
    "We always use `EPSG:3035` as the coordinate reference system."
   ]
  },
  {
   "cell_type": "code",
   "execution_count": 1,
   "metadata": {},
   "outputs": [],
   "source": [
    "from glob import glob\n",
    "import os\n",
    "import pandas as pd\n",
    "import geopandas as gpd\n",
    "\n",
    "from camelsp import Station"
   ]
  },
  {
   "cell_type": "code",
   "execution_count": 2,
   "metadata": {},
   "outputs": [
    {
     "name": "stdout",
     "output_type": "stream",
     "text": [
      "Total number of stations in CAMELS-DE v1: 1582\n"
     ]
    }
   ],
   "source": [
    "# get camels_ids from hydromet timeseries\n",
    "camels_ids = [camels_id.split(\"_\")[-1].split(\".csv\")[0] for camels_id in glob(\"../output_data/camels_de/timeseries/*.csv\")]\n",
    "\n",
    "# sort camels_ids\n",
    "camels_ids = sorted(camels_ids)\n",
    "\n",
    "print(f\"Total number of stations in CAMELS-DE v1: {len(camels_ids)}\")"
   ]
  },
  {
   "cell_type": "markdown",
   "metadata": {},
   "source": [
    "## Save catchment boundaries\n",
    "\n",
    "Get all the catchment boundaries from the CAMELS-DE dataset and save them in a geopackage and shapefile."
   ]
  },
  {
   "cell_type": "code",
   "execution_count": 15,
   "metadata": {},
   "outputs": [],
   "source": [
    "catchments = []\n",
    "\n",
    "for camels_id in camels_ids:\n",
    "    # initialize station\n",
    "    s = Station(camels_id)\n",
    "\n",
    "    # get MERIT Hydro catchment\n",
    "    catchment = s.get_catchment(\"merit_hydro\")\n",
    "\n",
    "    # from epsg:4326 to epsg:3035\n",
    "    catchment = catchment.to_crs(epsg=3035)\n",
    "\n",
    "    # add catchment to catchments\n",
    "    catchments.append(catchment)\n",
    "\n",
    "# concatenate all catchments into a single GeoDataFrame\n",
    "catchments = gpd.pd.concat(catchments, ignore_index=True)\n",
    "catchments.crs = \"EPSG:3035\"\n",
    "\n",
    "# rename columns\n",
    "catchments = catchments.rename(columns={\"id\": \"gauge_id\", \"name\": \"gauge_name\"})\n",
    "\n",
    "# drop columns\n",
    "catchments = catchments.drop(columns=[\"result\", \"area_calc\", \"area_reported\"])\n",
    "\n",
    "# # make directory if not exists\n",
    "os.makedirs(\"../output_data/camels_de/CAMELS_DE_catchment_boundaries\", exist_ok=True)\n",
    "os.makedirs(\"../output_data/camels_de/CAMELS_DE_catchment_boundaries/catchments\", exist_ok=True)\n",
    "\n",
    "# save catchments\n",
    "catchments.to_file(\"../output_data/camels_de/CAMELS_DE_catchment_boundaries/catchments/CAMELS_DE_catchments.shp\")\n",
    "catchments.to_file(\"../output_data/camels_de/CAMELS_DE_catchment_boundaries/catchments/CAMELS_DE_catchments.gpkg\", driver=\"GPKG\")"
   ]
  },
  {
   "cell_type": "code",
   "execution_count": 16,
   "metadata": {},
   "outputs": [
    {
     "data": {
      "text/html": [
       "<div>\n",
       "<style scoped>\n",
       "    .dataframe tbody tr th:only-of-type {\n",
       "        vertical-align: middle;\n",
       "    }\n",
       "\n",
       "    .dataframe tbody tr th {\n",
       "        vertical-align: top;\n",
       "    }\n",
       "\n",
       "    .dataframe thead th {\n",
       "        text-align: right;\n",
       "    }\n",
       "</style>\n",
       "<table border=\"1\" class=\"dataframe\">\n",
       "  <thead>\n",
       "    <tr style=\"text-align: right;\">\n",
       "      <th></th>\n",
       "      <th>gauge_id</th>\n",
       "      <th>gauge_name</th>\n",
       "      <th>geometry</th>\n",
       "    </tr>\n",
       "  </thead>\n",
       "  <tbody>\n",
       "    <tr>\n",
       "      <th>0</th>\n",
       "      <td>DE110000</td>\n",
       "      <td>Kirchen-Hausen</td>\n",
       "      <td>POLYGON ((4208675.183 2754027.132, 4208669.695...</td>\n",
       "    </tr>\n",
       "    <tr>\n",
       "      <th>1</th>\n",
       "      <td>DE110010</td>\n",
       "      <td>Möhringen</td>\n",
       "      <td>POLYGON ((4208675.183 2754027.132, 4208669.695...</td>\n",
       "    </tr>\n",
       "    <tr>\n",
       "      <th>2</th>\n",
       "      <td>DE110020</td>\n",
       "      <td>Hundersingen</td>\n",
       "      <td>POLYGON ((4225824.416 2753983.319, 4225761.576...</td>\n",
       "    </tr>\n",
       "    <tr>\n",
       "      <th>3</th>\n",
       "      <td>DE110030</td>\n",
       "      <td>Berg</td>\n",
       "      <td>POLYGON ((4225824.416 2753983.319, 4225761.576...</td>\n",
       "    </tr>\n",
       "    <tr>\n",
       "      <th>4</th>\n",
       "      <td>DE110040</td>\n",
       "      <td>Achstetten</td>\n",
       "      <td>POLYGON ((4318114.983 2781319.465, 4317928.853...</td>\n",
       "    </tr>\n",
       "    <tr>\n",
       "      <th>...</th>\n",
       "      <td>...</td>\n",
       "      <td>...</td>\n",
       "      <td>...</td>\n",
       "    </tr>\n",
       "    <tr>\n",
       "      <th>1577</th>\n",
       "      <td>DEG10580</td>\n",
       "      <td>Unterbreizbach-Räsa</td>\n",
       "      <td>POLYGON ((4312781.063 3061807.891, 4312604.312...</td>\n",
       "    </tr>\n",
       "    <tr>\n",
       "      <th>1578</th>\n",
       "      <td>DEG10590</td>\n",
       "      <td>Vacha</td>\n",
       "      <td>POLYGON ((4325316.084 3079045.275, 4325198.405...</td>\n",
       "    </tr>\n",
       "    <tr>\n",
       "      <th>1579</th>\n",
       "      <td>DEG10600</td>\n",
       "      <td>Wasserthaleben</td>\n",
       "      <td>POLYGON ((4369192.700 3128034.083, 4369076.135...</td>\n",
       "    </tr>\n",
       "    <tr>\n",
       "      <th>1580</th>\n",
       "      <td>DEG10610</td>\n",
       "      <td>Weida</td>\n",
       "      <td>POLYGON ((4468092.262 3058697.586, 4468094.862...</td>\n",
       "    </tr>\n",
       "    <tr>\n",
       "      <th>1581</th>\n",
       "      <td>DEG10620</td>\n",
       "      <td>Wipperdorf</td>\n",
       "      <td>POLYGON ((4365716.123 3146360.215, 4365716.934...</td>\n",
       "    </tr>\n",
       "  </tbody>\n",
       "</table>\n",
       "<p>1582 rows × 3 columns</p>\n",
       "</div>"
      ],
      "text/plain": [
       "      gauge_id           gauge_name  \\\n",
       "0     DE110000       Kirchen-Hausen   \n",
       "1     DE110010            Möhringen   \n",
       "2     DE110020         Hundersingen   \n",
       "3     DE110030                 Berg   \n",
       "4     DE110040           Achstetten   \n",
       "...        ...                  ...   \n",
       "1577  DEG10580  Unterbreizbach-Räsa   \n",
       "1578  DEG10590                Vacha   \n",
       "1579  DEG10600       Wasserthaleben   \n",
       "1580  DEG10610                Weida   \n",
       "1581  DEG10620           Wipperdorf   \n",
       "\n",
       "                                               geometry  \n",
       "0     POLYGON ((4208675.183 2754027.132, 4208669.695...  \n",
       "1     POLYGON ((4208675.183 2754027.132, 4208669.695...  \n",
       "2     POLYGON ((4225824.416 2753983.319, 4225761.576...  \n",
       "3     POLYGON ((4225824.416 2753983.319, 4225761.576...  \n",
       "4     POLYGON ((4318114.983 2781319.465, 4317928.853...  \n",
       "...                                                 ...  \n",
       "1577  POLYGON ((4312781.063 3061807.891, 4312604.312...  \n",
       "1578  POLYGON ((4325316.084 3079045.275, 4325198.405...  \n",
       "1579  POLYGON ((4369192.700 3128034.083, 4369076.135...  \n",
       "1580  POLYGON ((4468092.262 3058697.586, 4468094.862...  \n",
       "1581  POLYGON ((4365716.123 3146360.215, 4365716.934...  \n",
       "\n",
       "[1582 rows x 3 columns]"
      ]
     },
     "execution_count": 16,
     "metadata": {},
     "output_type": "execute_result"
    }
   ],
   "source": [
    "catchments"
   ]
  },
  {
   "cell_type": "markdown",
   "metadata": {},
   "source": [
    "## Save gauging station locations"
   ]
  },
  {
   "cell_type": "code",
   "execution_count": 4,
   "metadata": {},
   "outputs": [
    {
     "name": "stderr",
     "output_type": "stream",
     "text": [
      "/tmp/ipykernel_140275/1604251584.py:12: UserWarning: Column names longer than 10 characters will be truncated when saved to ESRI Shapefile.\n",
      "  gdf.to_file(\"../output_data/camels_de/CAMELS_DE_catchment_boundaries/stations/stations.shp\")\n"
     ]
    }
   ],
   "source": [
    "# read station locations from topographic attributes\n",
    "df = pd.read_csv(\"../output_data/camels_de/CAMELS_DE_topographic_attributes.csv\")\n",
    "\n",
    "# convert to GeoDataFrame\n",
    "gdf = gpd.GeoDataFrame(df, geometry=gpd.points_from_xy(df[\"gauge_easting\"], df[\"gauge_northing\"]))\n",
    "gdf.crs = \"EPSG:3035\"\n",
    "\n",
    "# make directory if not exists\n",
    "os.makedirs(\"../output_data/camels_de/CAMELS_DE_catchment_boundaries/gauging_stations\", exist_ok=True)\n",
    "\n",
    "# save station locations\n",
    "gdf.to_file(\"../output_data/camels_de/CAMELS_DE_catchment_boundaries/gauging_stations/CAMELS_DE_gauging_stations.shp\")\n",
    "gdf.to_file(\"../output_data/camels_de/CAMELS_DE_catchment_boundaries/gauging_stations/CAMELS_DE_gauging_stations.gpkg\", driver=\"GPKG\")"
   ]
  }
 ],
 "metadata": {
  "kernelspec": {
   "display_name": "base",
   "language": "python",
   "name": "python3"
  },
  "language_info": {
   "codemirror_mode": {
    "name": "ipython",
    "version": 3
   },
   "file_extension": ".py",
   "mimetype": "text/x-python",
   "name": "python",
   "nbconvert_exporter": "python",
   "pygments_lexer": "ipython3",
   "version": "3.11.7"
  }
 },
 "nbformat": 4,
 "nbformat_minor": 2
}
