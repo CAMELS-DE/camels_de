{
 "cells": [
  {
   "cell_type": "markdown",
   "metadata": {},
   "source": [
    "# Catchment Boundaries\n",
    "\n",
    "Notebook to create the files `CAMELS_DE_catchment_boundaries.geopackage` and `CAMELS_DE_catchment_boundaries.shp`.  \n",
    "As well as `CAMELS_DE_gauging_stations.geopackage` and `CAMELS_DE_gauging_stations.shp`.  \n",
    "\n",
    "We always use `EPSG:3035` as the coordinate reference system."
   ]
  },
  {
   "cell_type": "code",
   "execution_count": 1,
   "metadata": {},
   "outputs": [
    {
     "name": "stderr",
     "output_type": "stream",
     "text": [
      "/home/alexd/miniconda3/lib/python3.11/site-packages/geopandas/_compat.py:124: UserWarning: The Shapely GEOS version (3.11.3-CAPI-1.17.3) is incompatible with the GEOS version PyGEOS was compiled with (3.10.4-CAPI-1.16.2). Conversions between both will be slow.\n",
      "  warnings.warn(\n",
      "/tmp/ipykernel_140275/1072211159.py:5: DeprecationWarning: Shapely 2.0 is installed, but because PyGEOS is also installed, GeoPandas still uses PyGEOS by default. However, starting with version 0.14, the default will switch to Shapely. To force to use Shapely 2.0 now, you can either uninstall PyGEOS or set the environment variable USE_PYGEOS=0. You can do this before starting the Python process, or in your code before importing geopandas:\n",
      "\n",
      "import os\n",
      "os.environ['USE_PYGEOS'] = '0'\n",
      "import geopandas\n",
      "\n",
      "In the next release, GeoPandas will switch to using Shapely by default, even if PyGEOS is installed. If you only have PyGEOS installed to get speed-ups, this switch should be smooth. However, if you are using PyGEOS directly (calling PyGEOS functions on geometries from GeoPandas), this will then stop working and you are encouraged to migrate from PyGEOS to Shapely 2.0 (https://shapely.readthedocs.io/en/latest/migration_pygeos.html).\n",
      "  import geopandas as gpd\n"
     ]
    }
   ],
   "source": [
    "from glob import glob\n",
    "import os\n",
    "import pandas as pd\n",
    "import geopandas as gpd\n",
    "\n",
    "from camelsp import Station"
   ]
  },
  {
   "cell_type": "code",
   "execution_count": 2,
   "metadata": {},
   "outputs": [
    {
     "name": "stdout",
     "output_type": "stream",
     "text": [
      "Total number of stations in CAMELS-DE v1: 1460\n"
     ]
    }
   ],
   "source": [
    "# get camels_ids from hydromet timeseries\n",
    "camels_ids = [camels_id.split(\"_\")[-1].split(\".csv\")[0] for camels_id in glob(\"../output_data/camels_de/timeseries/*.csv\")]\n",
    "\n",
    "# sort camels_ids\n",
    "camels_ids = sorted(camels_ids)\n",
    "\n",
    "print(f\"Total number of stations in CAMELS-DE v1: {len(camels_ids)}\")"
   ]
  },
  {
   "cell_type": "markdown",
   "metadata": {},
   "source": [
    "## Save catchment boundaries\n",
    "\n",
    "Get all the catchment boundaries from the CAMELS-DE dataset and save them in a geopackage and shapefile."
   ]
  },
  {
   "cell_type": "code",
   "execution_count": 3,
   "metadata": {},
   "outputs": [
    {
     "name": "stderr",
     "output_type": "stream",
     "text": [
      "100%|██████████| 1460/1460 [00:37<00:00, 38.52it/s]\n",
      "/tmp/ipykernel_140275/2167409807.py:25: UserWarning: Column names longer than 10 characters will be truncated when saved to ESRI Shapefile.\n",
      "  catchments.to_file(\"../output_data/camels_de/CAMELS_DE_catchment_boundaries/catchments/catchments.shp\")\n"
     ]
    }
   ],
   "source": [
    "catchments = []\n",
    "\n",
    "for camels_id in camels_ids:\n",
    "    # initialize station\n",
    "    s = Station(camels_id)\n",
    "\n",
    "    # get MERIT Hydro catchment\n",
    "    catchment = s.get_catchment(\"merit_hydro\")\n",
    "\n",
    "    # from epsg:4326 to epsg:3035\n",
    "    catchment = catchment.to_crs(epsg=3035)\n",
    "\n",
    "    # add catchment to catchments\n",
    "    catchments.append(catchment)\n",
    "\n",
    "# concatenate all catchments into a single GeoDataFrame\n",
    "catchments = gpd.pd.concat(catchments, ignore_index=True)\n",
    "catchments.crs = \"EPSG:3035\"\n",
    "\n",
    "# make directory if not exists\n",
    "os.makedirs(\"../output_data/camels_de/CAMELS_DE_catchment_boundaries\", exist_ok=True)\n",
    "os.makedirs(\"../output_data/camels_de/CAMELS_DE_catchment_boundaries/catchments\", exist_ok=True)\n",
    "\n",
    "# save catchments\n",
    "catchments.to_file(\"../output_data/camels_de/CAMELS_DE_catchment_boundaries/catchments/CAMELS_DE_catchments.shp\")\n",
    "catchments.to_file(\"../output_data/camels_de/CAMELS_DE_catchment_boundaries/catchments/CAMELS_DE_catchments.gpkg\", driver=\"GPKG\")"
   ]
  },
  {
   "cell_type": "markdown",
   "metadata": {},
   "source": [
    "## Save gauging station locations"
   ]
  },
  {
   "cell_type": "code",
   "execution_count": 4,
   "metadata": {},
   "outputs": [
    {
     "name": "stderr",
     "output_type": "stream",
     "text": [
      "/tmp/ipykernel_140275/1604251584.py:12: UserWarning: Column names longer than 10 characters will be truncated when saved to ESRI Shapefile.\n",
      "  gdf.to_file(\"../output_data/camels_de/CAMELS_DE_catchment_boundaries/stations/stations.shp\")\n"
     ]
    }
   ],
   "source": [
    "# read station locations from topographic attributes\n",
    "df = pd.read_csv(\"../output_data/camels_de/CAMELS_DE_topographic_attributes.csv\")\n",
    "\n",
    "# convert to GeoDataFrame\n",
    "gdf = gpd.GeoDataFrame(df, geometry=gpd.points_from_xy(df[\"gauge_easting\"], df[\"gauge_northing\"]))\n",
    "gdf.crs = \"EPSG:3035\"\n",
    "\n",
    "# make directory if not exists\n",
    "os.makedirs(\"../output_data/camels_de/CAMELS_DE_catchment_boundaries/stations\", exist_ok=True)\n",
    "\n",
    "# save station locations\n",
    "gdf.to_file(\"../output_data/camels_de/CAMELS_DE_catchment_boundaries/stations/CAMELS_DE_gauging_stations.shp\")\n",
    "gdf.to_file(\"../output_data/camels_de/CAMELS_DE_catchment_boundaries/stations/CAMELS_DE_gauging_stations.gpkg\", driver=\"GPKG\")"
   ]
  }
 ],
 "metadata": {
  "kernelspec": {
   "display_name": "base",
   "language": "python",
   "name": "python3"
  },
  "language_info": {
   "codemirror_mode": {
    "name": "ipython",
    "version": 3
   },
   "file_extension": ".py",
   "mimetype": "text/x-python",
   "name": "python",
   "nbconvert_exporter": "python",
   "pygments_lexer": "ipython3",
   "version": "3.11.7"
  }
 },
 "nbformat": 4,
 "nbformat_minor": 2
}
