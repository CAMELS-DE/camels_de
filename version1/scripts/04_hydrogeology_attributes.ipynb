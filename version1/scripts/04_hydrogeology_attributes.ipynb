{
 "cells": [
  {
   "cell_type": "markdown",
   "metadata": {},
   "source": [
    "# Hydrogeology attributes\n",
    "\n",
    "Notebook to create the file `CAMELS_DE_hydrogeology_attributes.csv`.  \n",
    "\n",
    "columns:\n",
    "- gauge_id [%]\n",
    "- aquitard_perc [%]\n",
    "- aquifer_perc [%]\n",
    "- aquifer_aquitard_mixed_perc [%]\n",
    "- kf_very_high_perc [%]\n",
    "- kf_high_perc [%]\n",
    "- kf_medium_perc [%]\n",
    "- kf_moderate_perc [%]\n",
    "- kf_low_perc [%]\n",
    "- kf_very_low_perc [%]\n",
    "- kf_extremely_low_perc [%]\n",
    "- kf_very_high_to_high_perc [%]\n",
    "- kf_medium_to_moderate_perc [%]\n",
    "- kf_low_to_extremely_low_perc [%]\n",
    "- kf_highly_variable_perc [%]\n",
    "- kf_moderate_to_low_perc [%]\n",
    "- cavity_fissure_perc [%]\n",
    "- cavity_pores_perc [%]\n",
    "- cavity_fissure_karst_perc [%]\n",
    "- cavity_fissure_pores_perc [%]\n",
    "- rocktype_sediment_perc [%]\n",
    "- rocktype_metamorphite_perc [%]\n",
    "- rocktype_magmatite_perc [%]\n",
    "- consolidation_solid_rock_perc [%]\n",
    "- consolidation_unconsolidated_rock_perc [%]\n",
    "- geochemical_rocktype_silicate_perc [%]\n",
    "- geochemical_rocktype_silicate_carbonatic_perc [%]\n",
    "- geochemical_rocktype_carbonatic_perc [%]\n",
    "- geochemical_rocktype_sulfatic_perc [%]\n",
    "- geochemical_rocktype_silicate_organic_components_perc [%]\n",
    "- geochemical_rocktype_anthropogenically_modified_through_filling_perc [%]\n",
    "- geochemical_rocktype_sulfatic_halitic_perc [%]\n",
    "- geochemical_rocktype_halitic_perc [%]\n",
    "- waterbody_perc [%]\n",
    "- no_data_perc [%]"
   ]
  },
  {
   "cell_type": "code",
   "execution_count": 2,
   "metadata": {},
   "outputs": [
    {
     "name": "stderr",
     "output_type": "stream",
     "text": [
      "/home/alexd/miniconda3/lib/python3.11/site-packages/geopandas/_compat.py:124: UserWarning: The Shapely GEOS version (3.11.3-CAPI-1.17.3) is incompatible with the GEOS version PyGEOS was compiled with (3.10.4-CAPI-1.16.2). Conversions between both will be slow.\n",
      "  warnings.warn(\n"
     ]
    }
   ],
   "source": [
    "import os\n",
    "from glob import glob\n",
    "import pandas as pd\n",
    "\n",
    "from camelsp.util import OUTPUT_PATH"
   ]
  },
  {
   "cell_type": "code",
   "execution_count": 3,
   "metadata": {},
   "outputs": [
    {
     "name": "stdout",
     "output_type": "stream",
     "text": [
      "Total number of stations in CAMELS-DE v1: 1460\n"
     ]
    }
   ],
   "source": [
    "# get camels_ids from hydromet timeseries\n",
    "camels_ids = [camels_id.split(\"_\")[-1].split(\".csv\")[0] for camels_id in glob(\"../output_data/camels_de/timeseries/*.csv\")]\n",
    "\n",
    "# sort camels_ids\n",
    "camels_ids = sorted(camels_ids)\n",
    "\n",
    "print(f\"Total number of stations in CAMELS-DE v1: {len(camels_ids)}\")"
   ]
  },
  {
   "cell_type": "markdown",
   "metadata": {},
   "source": [
    "## Read, process and save hydrogeology data\n",
    "\n",
    "We extracted the hydrogeology attributes from the HUEK250 dataset, read and process here."
   ]
  },
  {
   "cell_type": "code",
   "execution_count": 68,
   "metadata": {},
   "outputs": [],
   "source": [
    "# dataframe to store all hydrogeo data for all camels_ids\n",
    "df_all = pd.DataFrame()\n",
    "\n",
    "# huek250 variables\n",
    "variables = [\"ch\", \"kf\", \"ha\", \"ga\", \"vf\", \"gc\"]\n",
    "\n",
    "for camels_id in camels_ids:\n",
    "    # dataframe to store all hydrogeo data for a single camels_id\n",
    "    df = pd.DataFrame()\n",
    "    df[\"gauge_id\"] = [camels_id]\n",
    "\n",
    "    # read all variables\n",
    "    for variable in variables:\n",
    "        path = os.path.join(OUTPUT_PATH, f\"raw_catchment_attributes/hydrogeo/huek250/{camels_id}/data/huek250_{variable}.csv\")\n",
    "        df_variable = pd.read_csv(path)\n",
    "\n",
    "        # drop column camels_id\n",
    "        df_variable.drop(\"camels_id\", axis=1, inplace=True)\n",
    "\n",
    "        # concatenate dataframes\n",
    "        df = pd.concat([df, df_variable], axis=1)\n",
    "\n",
    "    # check that all waterbody columns have the same value\n",
    "    waterbody_cols = [col for col in df.columns if \"waterbody\" in col]\n",
    "    assert len(set(df[waterbody_cols].values.flatten().tolist())) == 1\n",
    "\n",
    "    # make one waterbody column\n",
    "    df[\"waterbody_perc\"] = df[waterbody_cols[0]]\n",
    "    df.drop(waterbody_cols, axis=1, inplace=True)\n",
    "\n",
    "    # check that all no_data columns have the same value\n",
    "    no_data_cols = [col for col in df.columns if \"no_data\" in col]\n",
    "    assert len(set(df[no_data_cols].values.flatten().tolist())) == 1\n",
    "\n",
    "    # make one no_data column\n",
    "    df[\"no_data_perc\"] = df[no_data_cols[0]]\n",
    "    df.drop(no_data_cols, axis=1, inplace=True)\n",
    "    \n",
    "    # add to df_all\n",
    "    df_all = pd.concat([df_all, df], axis=0)\n",
    "\n",
    "# round to 2 decimal places\n",
    "df_all = df_all.round(2)\n",
    "\n",
    "# save results\n",
    "df_all.to_csv(\"../output_data/camels_de/CAMELS_DE_hydrogeology_attributes.csv\", index=False) "
   ]
  }
 ],
 "metadata": {
  "kernelspec": {
   "display_name": "base",
   "language": "python",
   "name": "python3"
  },
  "language_info": {
   "codemirror_mode": {
    "name": "ipython",
    "version": 3
   },
   "file_extension": ".py",
   "mimetype": "text/x-python",
   "name": "python",
   "nbconvert_exporter": "python",
   "pygments_lexer": "ipython3",
   "version": "3.11.7"
  }
 },
 "nbformat": 4,
 "nbformat_minor": 2
}
