{
 "cells": [
  {
   "cell_type": "markdown",
   "metadata": {},
   "source": [
    "# Landcover attributes\n",
    "\n",
    "Notebook to create the file `CAMELS_DE_landcover_attributes.csv`.\n",
    "\n",
    "columns:\n",
    "\n",
    "- gauge_id\n",
    "- artificial_surfaces_perc [%]\n",
    "- agricultural_areas_perc [%]\n",
    "- forests_and_seminatural_areas_perc [%]\n",
    "- wetlands_perc [%]\n",
    "- water_bodies_perc [%]\n"
   ]
  },
  {
   "cell_type": "code",
   "execution_count": 2,
   "metadata": {},
   "outputs": [
    {
     "name": "stderr",
     "output_type": "stream",
     "text": [
      "/home/alexd/miniconda3/lib/python3.11/site-packages/geopandas/_compat.py:124: UserWarning: The Shapely GEOS version (3.11.3-CAPI-1.17.3) is incompatible with the GEOS version PyGEOS was compiled with (3.10.4-CAPI-1.16.2). Conversions between both will be slow.\n",
      "  warnings.warn(\n"
     ]
    }
   ],
   "source": [
    "import os\n",
    "from glob import glob\n",
    "import pandas as pd\n",
    "\n",
    "from camelsp.util import OUTPUT_PATH"
   ]
  },
  {
   "cell_type": "code",
   "execution_count": 3,
   "metadata": {},
   "outputs": [
    {
     "name": "stdout",
     "output_type": "stream",
     "text": [
      "Total number of stations in CAMELS-DE v1: 1460\n"
     ]
    }
   ],
   "source": [
    "# get camels_ids from hydromet timeseries\n",
    "camels_ids = [camels_id.split(\"_\")[-1].split(\".csv\")[0] for camels_id in glob(\"../output_data/camels_de/timeseries/*.csv\")]\n",
    "\n",
    "# sort camels_ids\n",
    "camels_ids = sorted(camels_ids)\n",
    "\n",
    "print(f\"Total number of stations in CAMELS-DE v1: {len(camels_ids)}\")"
   ]
  },
  {
   "cell_type": "markdown",
   "metadata": {},
   "source": [
    "## Read landcover data\n",
    "\n",
    "We extracted the landcover attributes from the CORINE dataset, read and process here.\n"
   ]
  },
  {
   "cell_type": "code",
   "execution_count": 4,
   "metadata": {},
   "outputs": [
    {
     "data": {
      "text/html": [
       "<div>\n",
       "<style scoped>\n",
       "    .dataframe tbody tr th:only-of-type {\n",
       "        vertical-align: middle;\n",
       "    }\n",
       "\n",
       "    .dataframe tbody tr th {\n",
       "        vertical-align: top;\n",
       "    }\n",
       "\n",
       "    .dataframe thead th {\n",
       "        text-align: right;\n",
       "    }\n",
       "</style>\n",
       "<table border=\"1\" class=\"dataframe\">\n",
       "  <thead>\n",
       "    <tr style=\"text-align: right;\">\n",
       "      <th></th>\n",
       "      <th>camels_id</th>\n",
       "      <th>artificial_surfaces_perc</th>\n",
       "      <th>agricultural_areas_perc</th>\n",
       "      <th>forests_and_seminatural_areas_perc</th>\n",
       "      <th>wetlands_perc</th>\n",
       "      <th>water_bodies_perc</th>\n",
       "    </tr>\n",
       "  </thead>\n",
       "  <tbody>\n",
       "    <tr>\n",
       "      <th>0</th>\n",
       "      <td>DE110000</td>\n",
       "      <td>7.84</td>\n",
       "      <td>44.25</td>\n",
       "      <td>47.51</td>\n",
       "      <td>0.24</td>\n",
       "      <td>0.17</td>\n",
       "    </tr>\n",
       "    <tr>\n",
       "      <th>1</th>\n",
       "      <td>DE110010</td>\n",
       "      <td>7.82</td>\n",
       "      <td>42.92</td>\n",
       "      <td>48.89</td>\n",
       "      <td>0.22</td>\n",
       "      <td>0.15</td>\n",
       "    </tr>\n",
       "    <tr>\n",
       "      <th>2</th>\n",
       "      <td>DE110020</td>\n",
       "      <td>7.21</td>\n",
       "      <td>44.28</td>\n",
       "      <td>48.20</td>\n",
       "      <td>0.11</td>\n",
       "      <td>0.20</td>\n",
       "    </tr>\n",
       "    <tr>\n",
       "      <th>3</th>\n",
       "      <td>DE110030</td>\n",
       "      <td>6.26</td>\n",
       "      <td>50.69</td>\n",
       "      <td>42.49</td>\n",
       "      <td>0.31</td>\n",
       "      <td>0.25</td>\n",
       "    </tr>\n",
       "    <tr>\n",
       "      <th>4</th>\n",
       "      <td>DE110040</td>\n",
       "      <td>3.38</td>\n",
       "      <td>57.50</td>\n",
       "      <td>39.12</td>\n",
       "      <td>0.00</td>\n",
       "      <td>0.00</td>\n",
       "    </tr>\n",
       "    <tr>\n",
       "      <th>...</th>\n",
       "      <td>...</td>\n",
       "      <td>...</td>\n",
       "      <td>...</td>\n",
       "      <td>...</td>\n",
       "      <td>...</td>\n",
       "      <td>...</td>\n",
       "    </tr>\n",
       "    <tr>\n",
       "      <th>1455</th>\n",
       "      <td>DEG10580</td>\n",
       "      <td>3.25</td>\n",
       "      <td>64.56</td>\n",
       "      <td>32.12</td>\n",
       "      <td>0.06</td>\n",
       "      <td>0.00</td>\n",
       "    </tr>\n",
       "    <tr>\n",
       "      <th>1456</th>\n",
       "      <td>DEG10590</td>\n",
       "      <td>7.25</td>\n",
       "      <td>41.22</td>\n",
       "      <td>51.38</td>\n",
       "      <td>0.00</td>\n",
       "      <td>0.15</td>\n",
       "    </tr>\n",
       "    <tr>\n",
       "      <th>1457</th>\n",
       "      <td>DEG10600</td>\n",
       "      <td>3.34</td>\n",
       "      <td>76.95</td>\n",
       "      <td>19.71</td>\n",
       "      <td>0.00</td>\n",
       "      <td>0.00</td>\n",
       "    </tr>\n",
       "    <tr>\n",
       "      <th>1458</th>\n",
       "      <td>DEG10610</td>\n",
       "      <td>5.22</td>\n",
       "      <td>63.47</td>\n",
       "      <td>29.96</td>\n",
       "      <td>0.00</td>\n",
       "      <td>1.35</td>\n",
       "    </tr>\n",
       "    <tr>\n",
       "      <th>1459</th>\n",
       "      <td>DEG10620</td>\n",
       "      <td>8.57</td>\n",
       "      <td>63.54</td>\n",
       "      <td>27.76</td>\n",
       "      <td>0.00</td>\n",
       "      <td>0.13</td>\n",
       "    </tr>\n",
       "  </tbody>\n",
       "</table>\n",
       "<p>1460 rows × 6 columns</p>\n",
       "</div>"
      ],
      "text/plain": [
       "     camels_id  artificial_surfaces_perc  agricultural_areas_perc  \\\n",
       "0     DE110000                      7.84                    44.25   \n",
       "1     DE110010                      7.82                    42.92   \n",
       "2     DE110020                      7.21                    44.28   \n",
       "3     DE110030                      6.26                    50.69   \n",
       "4     DE110040                      3.38                    57.50   \n",
       "...        ...                       ...                      ...   \n",
       "1455  DEG10580                      3.25                    64.56   \n",
       "1456  DEG10590                      7.25                    41.22   \n",
       "1457  DEG10600                      3.34                    76.95   \n",
       "1458  DEG10610                      5.22                    63.47   \n",
       "1459  DEG10620                      8.57                    63.54   \n",
       "\n",
       "      forests_and_seminatural_areas_perc  wetlands_perc  water_bodies_perc  \n",
       "0                                  47.51           0.24               0.17  \n",
       "1                                  48.89           0.22               0.15  \n",
       "2                                  48.20           0.11               0.20  \n",
       "3                                  42.49           0.31               0.25  \n",
       "4                                  39.12           0.00               0.00  \n",
       "...                                  ...            ...                ...  \n",
       "1455                               32.12           0.06               0.00  \n",
       "1456                               51.38           0.00               0.15  \n",
       "1457                               19.71           0.00               0.00  \n",
       "1458                               29.96           0.00               1.35  \n",
       "1459                               27.76           0.00               0.13  \n",
       "\n",
       "[1460 rows x 6 columns]"
      ]
     },
     "execution_count": 4,
     "metadata": {},
     "output_type": "execute_result"
    }
   ],
   "source": [
    "# read landcover data\n",
    "df = pd.read_csv(os.path.join(OUTPUT_PATH, \"raw_catchment_attributes/landcover/corine/corine_extracted.csv\"))\n",
    "\n",
    "# filter for camels_ids and sort by camels_id\n",
    "df = df[df[\"camels_id\"].isin(camels_ids)].sort_values(\"camels_id\").reset_index(drop=True)\n",
    "\n",
    "# round to 2 decimal places\n",
    "df = df.round(2)\n",
    "\n",
    "# rename column camels_id to gauge_id\n",
    "df = df.rename(columns={\"camels_id\": \"gauge_id\"})\n",
    "\n",
    "df"
   ]
  },
  {
   "cell_type": "code",
   "execution_count": 5,
   "metadata": {},
   "outputs": [],
   "source": [
    "# save\n",
    "df.to_csv(\"../output_data/camels_de/CAMELS_DE_landcover_attributes.csv\", index=False)"
   ]
  }
 ],
 "metadata": {
  "kernelspec": {
   "display_name": "base",
   "language": "python",
   "name": "python3"
  },
  "language_info": {
   "codemirror_mode": {
    "name": "ipython",
    "version": 3
   },
   "file_extension": ".py",
   "mimetype": "text/x-python",
   "name": "python",
   "nbconvert_exporter": "python",
   "pygments_lexer": "ipython3",
   "version": "3.11.7"
  }
 },
 "nbformat": 4,
 "nbformat_minor": 2
}
