{
 "cells": [
  {
   "cell_type": "markdown",
   "metadata": {},
   "source": [
    "# Add simulation data to CAMELS-DE\n",
    "\n",
    "- create folder `timeseries_simulated`\n",
    "- one .csv file per catchment\n",
    "- build a file `CAMELS_DE_simulations.csv` with metadata about model runs for each catchment"
   ]
  },
  {
   "cell_type": "code",
   "execution_count": 1,
   "metadata": {},
   "outputs": [],
   "source": [
    "import pandas as pd\n",
    "import os\n",
    "from glob import glob\n",
    "from camelsp.util import INPUT_PATH"
   ]
  },
  {
   "cell_type": "code",
   "execution_count": 2,
   "metadata": {},
   "outputs": [
    {
     "name": "stdout",
     "output_type": "stream",
     "text": [
      "Total number of stations in CAMELS-DE v1: 0\n"
     ]
    }
   ],
   "source": [
    "# get camels_ids from hydromet timeseries\n",
    "camels_ids = [camels_id.split(\"_\")[-1].split(\".csv\")[0] for camels_id in glob(\"../output_data/camels_de/timeseries/*.csv\")]\n",
    "\n",
    "# sort camels_ids\n",
    "camels_ids = sorted(camels_ids)\n",
    "\n",
    "print(f\"Total number of stations in CAMELS-DE v1: {len(camels_ids)}\")"
   ]
  },
  {
   "cell_type": "markdown",
   "metadata": {},
   "source": [
    "## Create folder"
   ]
  },
  {
   "cell_type": "code",
   "execution_count": 11,
   "metadata": {},
   "outputs": [],
   "source": [
    "os.makedirs(\"../output_data/camels_de/timeseries_simulated\", exist_ok=True)"
   ]
  },
  {
   "cell_type": "markdown",
   "metadata": {},
   "source": [
    "## Create .csv files with model result timeseries"
   ]
  },
  {
   "cell_type": "code",
   "execution_count": 3,
   "metadata": {},
   "outputs": [],
   "source": [
    "# read pickle\n",
    "lstm_data = pd.read_pickle(os.path.join(INPUT_PATH, \"LSTM_results/test_results.pickle\"))\n",
    "\n",
    "for id, df in lstm_data.items():\n",
    "    if id not in camels_ids:\n",
    "        continue\n",
    "\n",
    "    # rename columns\n",
    "    df = df.rename(columns={\"y_sim\": \"discharge_spec_sim\", \"y_obs\": \"discharge_spec_obs\"})\n",
    "\n",
    "    # create the filename\n",
    "    fname = f\"../output_data/camels_de/timeseries_simulated/CAMELS_DE_discharge_sim_{id}.csv\"\n",
    "\n",
    "    # round to 2 decimal places\n",
    "    df = df.round(2)\n",
    "\n",
    "    # save to csv\n",
    "    df.to_csv(fname, index=True, index_label=\"date\")"
   ]
  },
  {
   "cell_type": "markdown",
   "metadata": {},
   "source": [
    "## Create CAMELS_DE_simulations.csv"
   ]
  },
  {
   "cell_type": "code",
   "execution_count": 53,
   "metadata": {},
   "outputs": [],
   "source": [
    "# dataframe to store results\n",
    "df_results = pd.DataFrame(index=camels_ids)"
   ]
  },
  {
   "cell_type": "markdown",
   "metadata": {},
   "source": [
    "### Count days of `discharge_spec` for each period\n",
    "\n",
    "- training period: `01.10.1970` to `31.12.1999`\n",
    "- validation period: `01.10.1965` to `30.09.1970`\n",
    "- test period: `01.10.2001` to `31.12.2020`"
   ]
  },
  {
   "cell_type": "code",
   "execution_count": 55,
   "metadata": {},
   "outputs": [
    {
     "data": {
      "text/html": [
       "<div>\n",
       "<style scoped>\n",
       "    .dataframe tbody tr th:only-of-type {\n",
       "        vertical-align: middle;\n",
       "    }\n",
       "\n",
       "    .dataframe tbody tr th {\n",
       "        vertical-align: top;\n",
       "    }\n",
       "\n",
       "    .dataframe thead th {\n",
       "        text-align: right;\n",
       "    }\n",
       "</style>\n",
       "<table border=\"1\" class=\"dataframe\">\n",
       "  <thead>\n",
       "    <tr style=\"text-align: right;\">\n",
       "      <th></th>\n",
       "      <th>training_perc_complete</th>\n",
       "      <th>validation_perc_complete</th>\n",
       "      <th>testing_perc_complete</th>\n",
       "    </tr>\n",
       "  </thead>\n",
       "  <tbody>\n",
       "    <tr>\n",
       "      <th>DE110000</th>\n",
       "      <td>1.00</td>\n",
       "      <td>1.0</td>\n",
       "      <td>1.0</td>\n",
       "    </tr>\n",
       "    <tr>\n",
       "      <th>DE110010</th>\n",
       "      <td>0.99</td>\n",
       "      <td>1.0</td>\n",
       "      <td>1.0</td>\n",
       "    </tr>\n",
       "    <tr>\n",
       "      <th>DE110020</th>\n",
       "      <td>1.00</td>\n",
       "      <td>1.0</td>\n",
       "      <td>1.0</td>\n",
       "    </tr>\n",
       "    <tr>\n",
       "      <th>DE110030</th>\n",
       "      <td>1.00</td>\n",
       "      <td>1.0</td>\n",
       "      <td>1.0</td>\n",
       "    </tr>\n",
       "    <tr>\n",
       "      <th>DE110040</th>\n",
       "      <td>1.00</td>\n",
       "      <td>1.0</td>\n",
       "      <td>1.0</td>\n",
       "    </tr>\n",
       "    <tr>\n",
       "      <th>...</th>\n",
       "      <td>...</td>\n",
       "      <td>...</td>\n",
       "      <td>...</td>\n",
       "    </tr>\n",
       "    <tr>\n",
       "      <th>DEG10580</th>\n",
       "      <td>1.00</td>\n",
       "      <td>1.0</td>\n",
       "      <td>1.0</td>\n",
       "    </tr>\n",
       "    <tr>\n",
       "      <th>DEG10590</th>\n",
       "      <td>1.00</td>\n",
       "      <td>1.0</td>\n",
       "      <td>1.0</td>\n",
       "    </tr>\n",
       "    <tr>\n",
       "      <th>DEG10600</th>\n",
       "      <td>1.00</td>\n",
       "      <td>1.0</td>\n",
       "      <td>1.0</td>\n",
       "    </tr>\n",
       "    <tr>\n",
       "      <th>DEG10610</th>\n",
       "      <td>1.00</td>\n",
       "      <td>1.0</td>\n",
       "      <td>1.0</td>\n",
       "    </tr>\n",
       "    <tr>\n",
       "      <th>DEG10620</th>\n",
       "      <td>1.00</td>\n",
       "      <td>1.0</td>\n",
       "      <td>1.0</td>\n",
       "    </tr>\n",
       "  </tbody>\n",
       "</table>\n",
       "<p>1460 rows × 3 columns</p>\n",
       "</div>"
      ],
      "text/plain": [
       "          training_perc_complete  validation_perc_complete  \\\n",
       "DE110000                    1.00                       1.0   \n",
       "DE110010                    0.99                       1.0   \n",
       "DE110020                    1.00                       1.0   \n",
       "DE110030                    1.00                       1.0   \n",
       "DE110040                    1.00                       1.0   \n",
       "...                          ...                       ...   \n",
       "DEG10580                    1.00                       1.0   \n",
       "DEG10590                    1.00                       1.0   \n",
       "DEG10600                    1.00                       1.0   \n",
       "DEG10610                    1.00                       1.0   \n",
       "DEG10620                    1.00                       1.0   \n",
       "\n",
       "          testing_perc_complete  \n",
       "DE110000                    1.0  \n",
       "DE110010                    1.0  \n",
       "DE110020                    1.0  \n",
       "DE110030                    1.0  \n",
       "DE110040                    1.0  \n",
       "...                         ...  \n",
       "DEG10580                    1.0  \n",
       "DEG10590                    1.0  \n",
       "DEG10600                    1.0  \n",
       "DEG10610                    1.0  \n",
       "DEG10620                    1.0  \n",
       "\n",
       "[1460 rows x 3 columns]"
      ]
     },
     "execution_count": 55,
     "metadata": {},
     "output_type": "execute_result"
    }
   ],
   "source": [
    "training = [\"1970-10-01\", \"1999-12-31\"]\n",
    "validation = [\"1965-10-01\", \"1970-09-30\"]\n",
    "testing = [\"2001-10-01\", \"2020-12-31\"]\n",
    "\n",
    "# read the timeseries\n",
    "for id in camels_ids:\n",
    "    df = pd.read_csv(f\"../output_data/camels_de/timeseries/CAMELS_DE_hydromet_timeseries_{id}.csv\", index_col=0, parse_dates=True)\n",
    "\n",
    "    # count number with discharge_spec that are not NaN for each period\n",
    "    training_count = df.loc[training[0]:training[1], \"discharge_spec\"].count()\n",
    "    validation_count = df.loc[validation[0]:validation[1], \"discharge_spec\"].count()\n",
    "    testing_count = df.loc[testing[0]:testing[1], \"discharge_spec\"].count()\n",
    "\n",
    "    # get ratio of stations with discharge_spec data for each period\n",
    "    training_perc_complete = training_count / len(df.loc[training[0]:training[1], \"discharge_spec\"])\n",
    "    validation_perc_complete = validation_count / len(df.loc[validation[0]:validation[1], \"discharge_spec\"])\n",
    "    testing_perc_complete = testing_count / len(df.loc[testing[0]:testing[1], \"discharge_spec\"])\n",
    "\n",
    "    # store results\n",
    "    df_results.loc[id, \"training_perc_complete\"] = round(training_perc_complete, 2)\n",
    "    df_results.loc[id, \"validation_perc_complete\"] = round(validation_perc_complete, 2)\n",
    "    df_results.loc[id, \"testing_perc_complete\"] = round(testing_perc_complete, 2)\n",
    "\n",
    "df_results"
   ]
  },
  {
   "cell_type": "markdown",
   "metadata": {},
   "source": [
    "### Add NSE per catchment"
   ]
  },
  {
   "cell_type": "code",
   "execution_count": 60,
   "metadata": {},
   "outputs": [
    {
     "data": {
      "text/html": [
       "<div>\n",
       "<style scoped>\n",
       "    .dataframe tbody tr th:only-of-type {\n",
       "        vertical-align: middle;\n",
       "    }\n",
       "\n",
       "    .dataframe tbody tr th {\n",
       "        vertical-align: top;\n",
       "    }\n",
       "\n",
       "    .dataframe thead th {\n",
       "        text-align: right;\n",
       "    }\n",
       "</style>\n",
       "<table border=\"1\" class=\"dataframe\">\n",
       "  <thead>\n",
       "    <tr style=\"text-align: right;\">\n",
       "      <th></th>\n",
       "      <th>training_perc_complete</th>\n",
       "      <th>validation_perc_complete</th>\n",
       "      <th>testing_perc_complete</th>\n",
       "      <th>NSE</th>\n",
       "    </tr>\n",
       "  </thead>\n",
       "  <tbody>\n",
       "    <tr>\n",
       "      <th>DE110000</th>\n",
       "      <td>1.00</td>\n",
       "      <td>1.0</td>\n",
       "      <td>1.0</td>\n",
       "      <td>0.932</td>\n",
       "    </tr>\n",
       "    <tr>\n",
       "      <th>DE110010</th>\n",
       "      <td>0.99</td>\n",
       "      <td>1.0</td>\n",
       "      <td>1.0</td>\n",
       "      <td>0.714</td>\n",
       "    </tr>\n",
       "    <tr>\n",
       "      <th>DE110020</th>\n",
       "      <td>1.00</td>\n",
       "      <td>1.0</td>\n",
       "      <td>1.0</td>\n",
       "      <td>0.941</td>\n",
       "    </tr>\n",
       "    <tr>\n",
       "      <th>DE110030</th>\n",
       "      <td>1.00</td>\n",
       "      <td>1.0</td>\n",
       "      <td>1.0</td>\n",
       "      <td>0.931</td>\n",
       "    </tr>\n",
       "    <tr>\n",
       "      <th>DE110040</th>\n",
       "      <td>1.00</td>\n",
       "      <td>1.0</td>\n",
       "      <td>1.0</td>\n",
       "      <td>0.853</td>\n",
       "    </tr>\n",
       "    <tr>\n",
       "      <th>...</th>\n",
       "      <td>...</td>\n",
       "      <td>...</td>\n",
       "      <td>...</td>\n",
       "      <td>...</td>\n",
       "    </tr>\n",
       "    <tr>\n",
       "      <th>DEG10580</th>\n",
       "      <td>1.00</td>\n",
       "      <td>1.0</td>\n",
       "      <td>1.0</td>\n",
       "      <td>0.913</td>\n",
       "    </tr>\n",
       "    <tr>\n",
       "      <th>DEG10590</th>\n",
       "      <td>1.00</td>\n",
       "      <td>1.0</td>\n",
       "      <td>1.0</td>\n",
       "      <td>0.952</td>\n",
       "    </tr>\n",
       "    <tr>\n",
       "      <th>DEG10600</th>\n",
       "      <td>1.00</td>\n",
       "      <td>1.0</td>\n",
       "      <td>1.0</td>\n",
       "      <td>0.494</td>\n",
       "    </tr>\n",
       "    <tr>\n",
       "      <th>DEG10610</th>\n",
       "      <td>1.00</td>\n",
       "      <td>1.0</td>\n",
       "      <td>1.0</td>\n",
       "      <td>0.785</td>\n",
       "    </tr>\n",
       "    <tr>\n",
       "      <th>DEG10620</th>\n",
       "      <td>1.00</td>\n",
       "      <td>1.0</td>\n",
       "      <td>1.0</td>\n",
       "      <td>0.856</td>\n",
       "    </tr>\n",
       "  </tbody>\n",
       "</table>\n",
       "<p>1460 rows × 4 columns</p>\n",
       "</div>"
      ],
      "text/plain": [
       "          training_perc_complete  validation_perc_complete  \\\n",
       "DE110000                    1.00                       1.0   \n",
       "DE110010                    0.99                       1.0   \n",
       "DE110020                    1.00                       1.0   \n",
       "DE110030                    1.00                       1.0   \n",
       "DE110040                    1.00                       1.0   \n",
       "...                          ...                       ...   \n",
       "DEG10580                    1.00                       1.0   \n",
       "DEG10590                    1.00                       1.0   \n",
       "DEG10600                    1.00                       1.0   \n",
       "DEG10610                    1.00                       1.0   \n",
       "DEG10620                    1.00                       1.0   \n",
       "\n",
       "          testing_perc_complete    NSE  \n",
       "DE110000                    1.0  0.932  \n",
       "DE110010                    1.0  0.714  \n",
       "DE110020                    1.0  0.941  \n",
       "DE110030                    1.0  0.931  \n",
       "DE110040                    1.0  0.853  \n",
       "...                         ...    ...  \n",
       "DEG10580                    1.0  0.913  \n",
       "DEG10590                    1.0  0.952  \n",
       "DEG10600                    1.0  0.494  \n",
       "DEG10610                    1.0  0.785  \n",
       "DEG10620                    1.0  0.856  \n",
       "\n",
       "[1460 rows x 4 columns]"
      ]
     },
     "execution_count": 60,
     "metadata": {},
     "output_type": "execute_result"
    }
   ],
   "source": [
    "df_nse = pd.read_csv(os.path.join(INPUT_PATH, \"LSTM_results/NSE.csv\"))\n",
    "\n",
    "# set index to basin_id\n",
    "df_nse = df_nse.set_index(\"basin_id\")\n",
    "\n",
    "# join the two dataframes\n",
    "df_results = df_results.join(df_nse)\n",
    "\n",
    "df_results"
   ]
  },
  {
   "cell_type": "markdown",
   "metadata": {},
   "source": [
    "### Save csv"
   ]
  },
  {
   "cell_type": "code",
   "execution_count": null,
   "metadata": {},
   "outputs": [],
   "source": [
    "df_results.to_csv(\"../output_data/camels_de/CAMELS_DE_simulation_benchmark.csv\", index_label=\"gauge_id\")"
   ]
  }
 ],
 "metadata": {
  "kernelspec": {
   "display_name": "base",
   "language": "python",
   "name": "python3"
  },
  "language_info": {
   "codemirror_mode": {
    "name": "ipython",
    "version": 3
   },
   "file_extension": ".py",
   "mimetype": "text/x-python",
   "name": "python",
   "nbconvert_exporter": "python",
   "pygments_lexer": "ipython3",
   "version": "3.11.7"
  }
 },
 "nbformat": 4,
 "nbformat_minor": 2
}
